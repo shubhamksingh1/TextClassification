{
  "nbformat": 4,
  "nbformat_minor": 0,
  "metadata": {
    "colab": {
      "name": "BTClassificationTrainValSplit.ipynb",
      "provenance": [],
      "collapsed_sections": [],
      "toc_visible": true,
      "include_colab_link": true
    },
    "kernelspec": {
      "name": "python3",
      "display_name": "Python 3"
    },
    "accelerator": "GPU"
  },
  "cells": [
    {
      "cell_type": "markdown",
      "metadata": {
        "id": "view-in-github",
        "colab_type": "text"
      },
      "source": [
        "<a href=\"https://colab.research.google.com/github/shubhamksingh1/TextClassification/blob/main/KTRAIN/BTClassificationTrainValSplit.ipynb\" target=\"_parent\"><img src=\"https://colab.research.google.com/assets/colab-badge.svg\" alt=\"Open In Colab\"/></a>"
      ]
    },
    {
      "cell_type": "markdown",
      "metadata": {
        "id": "noK29Du_siUq"
      },
      "source": [
        "### Drive mount"
      ]
    },
    {
      "cell_type": "code",
      "metadata": {
        "id": "_LRUsT8ksgLI",
        "outputId": "413c77bb-2403-488a-c663-e8b777849737",
        "colab": {
          "base_uri": "https://localhost:8080/",
          "height": 122
        }
      },
      "source": [
        "from google.colab import drive\n",
        "drive.mount('/content/drive')"
      ],
      "execution_count": null,
      "outputs": [
        {
          "output_type": "stream",
          "text": [
            "Go to this URL in a browser: https://accounts.google.com/o/oauth2/auth?client_id=947318989803-6bn6qk8qdgf4n4g3pfee6491hc0brc4i.apps.googleusercontent.com&redirect_uri=urn%3aietf%3awg%3aoauth%3a2.0%3aoob&response_type=code&scope=email%20https%3a%2f%2fwww.googleapis.com%2fauth%2fdocs.test%20https%3a%2f%2fwww.googleapis.com%2fauth%2fdrive%20https%3a%2f%2fwww.googleapis.com%2fauth%2fdrive.photos.readonly%20https%3a%2f%2fwww.googleapis.com%2fauth%2fpeopleapi.readonly\n",
            "\n",
            "Enter your authorization code:\n",
            "··········\n",
            "Mounted at /content/drive\n"
          ],
          "name": "stdout"
        }
      ]
    },
    {
      "cell_type": "markdown",
      "metadata": {
        "id": "nCQyJn3ItWHu"
      },
      "source": [
        "### Importing Libraries"
      ]
    },
    {
      "cell_type": "code",
      "metadata": {
        "id": "ZW6QnVRxtbQ2"
      },
      "source": [
        "import pandas as pd"
      ],
      "execution_count": null,
      "outputs": []
    },
    {
      "cell_type": "markdown",
      "metadata": {
        "id": "XC0dRBTQtO-6"
      },
      "source": [
        "### Reading CSV"
      ]
    },
    {
      "cell_type": "code",
      "metadata": {
        "id": "TMvasCUSsmaX"
      },
      "source": [
        "df = pd.read_csv(\"/content/drive/My Drive/BTClassText/BT_Chat_Data.csv\")"
      ],
      "execution_count": null,
      "outputs": []
    },
    {
      "cell_type": "code",
      "metadata": {
        "id": "vHYeBOVotibr",
        "outputId": "e063a450-6875-4aa4-dc27-bd0170e071ba",
        "colab": {
          "base_uri": "https://localhost:8080/",
          "height": 153
        }
      },
      "source": [
        "df.info()"
      ],
      "execution_count": null,
      "outputs": [
        {
          "output_type": "stream",
          "text": [
            "<class 'pandas.core.frame.DataFrame'>\n",
            "RangeIndex: 557 entries, 0 to 556\n",
            "Data columns (total 3 columns):\n",
            "Notes               557 non-null object\n",
            "Keywords/Phrases    557 non-null object\n",
            "Category            557 non-null object\n",
            "dtypes: object(3)\n",
            "memory usage: 13.2+ KB\n"
          ],
          "name": "stdout"
        }
      ]
    },
    {
      "cell_type": "code",
      "metadata": {
        "id": "Pi3cyRmDtj8Z",
        "outputId": "ca5f90d8-4b0a-4c58-d005-1af5674c66e3",
        "colab": {
          "base_uri": "https://localhost:8080/",
          "height": 173
        }
      },
      "source": [
        "df.describe()"
      ],
      "execution_count": null,
      "outputs": [
        {
          "output_type": "execute_result",
          "data": {
            "text/html": [
              "<div>\n",
              "<style scoped>\n",
              "    .dataframe tbody tr th:only-of-type {\n",
              "        vertical-align: middle;\n",
              "    }\n",
              "\n",
              "    .dataframe tbody tr th {\n",
              "        vertical-align: top;\n",
              "    }\n",
              "\n",
              "    .dataframe thead th {\n",
              "        text-align: right;\n",
              "    }\n",
              "</style>\n",
              "<table border=\"1\" class=\"dataframe\">\n",
              "  <thead>\n",
              "    <tr style=\"text-align: right;\">\n",
              "      <th></th>\n",
              "      <th>Notes</th>\n",
              "      <th>Keywords/Phrases</th>\n",
              "      <th>Category</th>\n",
              "    </tr>\n",
              "  </thead>\n",
              "  <tbody>\n",
              "    <tr>\n",
              "      <th>count</th>\n",
              "      <td>557</td>\n",
              "      <td>557</td>\n",
              "      <td>557</td>\n",
              "    </tr>\n",
              "    <tr>\n",
              "      <th>unique</th>\n",
              "      <td>557</td>\n",
              "      <td>63</td>\n",
              "      <td>12</td>\n",
              "    </tr>\n",
              "    <tr>\n",
              "      <th>top</th>\n",
              "      <td>jumper complete sync and dial tone tested and...</td>\n",
              "      <td>gea service test completed and no fault found</td>\n",
              "      <td>fibre completed copper pending</td>\n",
              "    </tr>\n",
              "    <tr>\n",
              "      <th>freq</th>\n",
              "      <td>1</td>\n",
              "      <td>227</td>\n",
              "      <td>249</td>\n",
              "    </tr>\n",
              "  </tbody>\n",
              "</table>\n",
              "</div>"
            ],
            "text/plain": [
              "                                                    Notes  ...                        Category\n",
              "count                                                 557  ...                             557\n",
              "unique                                                557  ...                              12\n",
              "top      jumper complete sync and dial tone tested and...  ...  fibre completed copper pending\n",
              "freq                                                    1  ...                             249\n",
              "\n",
              "[4 rows x 3 columns]"
            ]
          },
          "metadata": {
            "tags": []
          },
          "execution_count": 5
        }
      ]
    },
    {
      "cell_type": "code",
      "metadata": {
        "id": "XosYsOBPtoRd",
        "outputId": "4c1d84e2-39ad-484d-9f35-f3f4862b7c40",
        "colab": {
          "base_uri": "https://localhost:8080/",
          "height": 204
        }
      },
      "source": [
        "df.head()"
      ],
      "execution_count": null,
      "outputs": [
        {
          "output_type": "execute_result",
          "data": {
            "text/html": [
              "<div>\n",
              "<style scoped>\n",
              "    .dataframe tbody tr th:only-of-type {\n",
              "        vertical-align: middle;\n",
              "    }\n",
              "\n",
              "    .dataframe tbody tr th {\n",
              "        vertical-align: top;\n",
              "    }\n",
              "\n",
              "    .dataframe thead th {\n",
              "        text-align: right;\n",
              "    }\n",
              "</style>\n",
              "<table border=\"1\" class=\"dataframe\">\n",
              "  <thead>\n",
              "    <tr style=\"text-align: right;\">\n",
              "      <th></th>\n",
              "      <th>Notes</th>\n",
              "      <th>Keywords/Phrases</th>\n",
              "      <th>Category</th>\n",
              "    </tr>\n",
              "  </thead>\n",
              "  <tbody>\n",
              "    <tr>\n",
              "      <th>0</th>\n",
              "      <td>ends associated cr with this job please follow...</td>\n",
              "      <td>traffic management is required</td>\n",
              "      <td>copper pending field work needed</td>\n",
              "    </tr>\n",
              "    <tr>\n",
              "      <th>1</th>\n",
              "      <td>connected fibre in cab no dside due to no acc...</td>\n",
              "      <td>stcb jumpering or tie pair problem found in th...</td>\n",
              "      <td>copper pending routing issue</td>\n",
              "    </tr>\n",
              "    <tr>\n",
              "      <th>2</th>\n",
              "      <td>ogecr mfl ok ltok all sockets unplugged and n...</td>\n",
              "      <td>gea service test completed and no fault found</td>\n",
              "      <td>fibre completed copper pending</td>\n",
              "    </tr>\n",
              "    <tr>\n",
              "      <th>3</th>\n",
              "      <td>upstreamspeed downstreamspeed tested notteste...</td>\n",
              "      <td>gea service test completed and no fault found</td>\n",
              "      <td>fibre completed copper pending</td>\n",
              "    </tr>\n",
              "    <tr>\n",
              "      <th>4</th>\n",
              "      <td>ends i cannot complete this task because the j...</td>\n",
              "      <td>the job was allocated past my end of day</td>\n",
              "      <td>reappointment needed out of time</td>\n",
              "    </tr>\n",
              "  </tbody>\n",
              "</table>\n",
              "</div>"
            ],
            "text/plain": [
              "                                               Notes  ...                          Category\n",
              "0  ends associated cr with this job please follow...  ...  copper pending field work needed\n",
              "1   connected fibre in cab no dside due to no acc...  ...      copper pending routing issue\n",
              "2   ogecr mfl ok ltok all sockets unplugged and n...  ...    fibre completed copper pending\n",
              "3   upstreamspeed downstreamspeed tested notteste...  ...    fibre completed copper pending\n",
              "4  ends i cannot complete this task because the j...  ...  reappointment needed out of time\n",
              "\n",
              "[5 rows x 3 columns]"
            ]
          },
          "metadata": {
            "tags": []
          },
          "execution_count": 6
        }
      ]
    },
    {
      "cell_type": "code",
      "metadata": {
        "id": "8LBG1J9ItvLS",
        "outputId": "122793be-8be1-4603-ab1c-e2ceed32f9c7",
        "colab": {
          "base_uri": "https://localhost:8080/",
          "height": 289
        }
      },
      "source": [
        "print('\\nFrequency distribution of unique values => \\n\\n'+ str(df['Category'].value_counts(dropna=False).sort_values(ascending = False)))"
      ],
      "execution_count": null,
      "outputs": [
        {
          "output_type": "stream",
          "text": [
            "\n",
            "Frequency distribution of unique values => \n",
            "\n",
            "fibre completed copper pending            249\n",
            "dslam capacity issue                       83\n",
            "copper pending routing issue               75\n",
            "copper pending line plant access issue     63\n",
            "copper pending field work needed           19\n",
            "reappointment needed eu not present        16\n",
            "order cancelled                            15\n",
            "reappointment needed out of time           14\n",
            "sales query                                10\n",
            "order completed in field                    8\n",
            "fault in network                            4\n",
            "reappointment needed new skills needed      1\n",
            "Name: Category, dtype: int64\n"
          ],
          "name": "stdout"
        }
      ]
    },
    {
      "cell_type": "code",
      "metadata": {
        "id": "mUOgU5epesBZ",
        "outputId": "11eee1da-43e2-43f0-dddf-50663b7ff433",
        "colab": {
          "base_uri": "https://localhost:8080/",
          "height": 34
        }
      },
      "source": [
        "df.shape"
      ],
      "execution_count": null,
      "outputs": [
        {
          "output_type": "execute_result",
          "data": {
            "text/plain": [
              "(557, 3)"
            ]
          },
          "metadata": {
            "tags": []
          },
          "execution_count": 29
        }
      ]
    },
    {
      "cell_type": "code",
      "metadata": {
        "id": "kcM6mhlvetn4",
        "outputId": "0ff362c2-9ab9-457a-92c4-f8de351e6618",
        "colab": {
          "base_uri": "https://localhost:8080/",
          "height": 34
        }
      },
      "source": [
        "len(df['Notes'].unique())"
      ],
      "execution_count": null,
      "outputs": [
        {
          "output_type": "execute_result",
          "data": {
            "text/plain": [
              "557"
            ]
          },
          "metadata": {
            "tags": []
          },
          "execution_count": 32
        }
      ]
    },
    {
      "cell_type": "code",
      "metadata": {
        "id": "4zbkF0jQu-y2"
      },
      "source": [
        "train = pd.DataFrame()\n",
        "test = pd.DataFrame()"
      ],
      "execution_count": null,
      "outputs": []
    },
    {
      "cell_type": "code",
      "metadata": {
        "id": "uPyHEhTcvq29",
        "outputId": "4b2a2bee-1ba4-4e0b-9df5-758ef4bcd23b",
        "colab": {
          "base_uri": "https://localhost:8080/",
          "height": 32
        }
      },
      "source": [
        "train"
      ],
      "execution_count": null,
      "outputs": [
        {
          "output_type": "execute_result",
          "data": {
            "text/html": [
              "<div>\n",
              "<style scoped>\n",
              "    .dataframe tbody tr th:only-of-type {\n",
              "        vertical-align: middle;\n",
              "    }\n",
              "\n",
              "    .dataframe tbody tr th {\n",
              "        vertical-align: top;\n",
              "    }\n",
              "\n",
              "    .dataframe thead th {\n",
              "        text-align: right;\n",
              "    }\n",
              "</style>\n",
              "<table border=\"1\" class=\"dataframe\">\n",
              "  <thead>\n",
              "    <tr style=\"text-align: right;\">\n",
              "      <th></th>\n",
              "    </tr>\n",
              "  </thead>\n",
              "  <tbody>\n",
              "  </tbody>\n",
              "</table>\n",
              "</div>"
            ],
            "text/plain": [
              "Empty DataFrame\n",
              "Columns: []\n",
              "Index: []"
            ]
          },
          "metadata": {
            "tags": []
          },
          "execution_count": 57
        }
      ]
    },
    {
      "cell_type": "code",
      "metadata": {
        "id": "nxYVa64lvuWS",
        "outputId": "229b15c2-e98f-4825-8613-5d62ddecf49f",
        "colab": {
          "base_uri": "https://localhost:8080/",
          "height": 32
        }
      },
      "source": [
        "test"
      ],
      "execution_count": null,
      "outputs": [
        {
          "output_type": "execute_result",
          "data": {
            "text/html": [
              "<div>\n",
              "<style scoped>\n",
              "    .dataframe tbody tr th:only-of-type {\n",
              "        vertical-align: middle;\n",
              "    }\n",
              "\n",
              "    .dataframe tbody tr th {\n",
              "        vertical-align: top;\n",
              "    }\n",
              "\n",
              "    .dataframe thead th {\n",
              "        text-align: right;\n",
              "    }\n",
              "</style>\n",
              "<table border=\"1\" class=\"dataframe\">\n",
              "  <thead>\n",
              "    <tr style=\"text-align: right;\">\n",
              "      <th></th>\n",
              "    </tr>\n",
              "  </thead>\n",
              "  <tbody>\n",
              "  </tbody>\n",
              "</table>\n",
              "</div>"
            ],
            "text/plain": [
              "Empty DataFrame\n",
              "Columns: []\n",
              "Index: []"
            ]
          },
          "metadata": {
            "tags": []
          },
          "execution_count": 58
        }
      ]
    },
    {
      "cell_type": "code",
      "metadata": {
        "id": "bYjMWy9qt5dc"
      },
      "source": [
        "df_grp = df.groupby('Category')"
      ],
      "execution_count": null,
      "outputs": []
    },
    {
      "cell_type": "code",
      "metadata": {
        "id": "kOEidTC-yPnx"
      },
      "source": [
        "from sklearn.model_selection import train_test_split"
      ],
      "execution_count": null,
      "outputs": []
    },
    {
      "cell_type": "code",
      "metadata": {
        "id": "DFIp4FlcxFp8"
      },
      "source": [
        "def splittrainval(df,train,test):\n",
        "    train_part, test_part = train_test_split(df, test_size=0.3)\n",
        "    print(train_part.shape)\n",
        "    train = train.append(train_part,ignore_index=True)\n",
        "    test = test.append(test_part,ignore_index=True)\n",
        "    return train,test\n"
      ],
      "execution_count": null,
      "outputs": []
    },
    {
      "cell_type": "code",
      "metadata": {
        "id": "z_5XzR1X2Y-d"
      },
      "source": [
        "cat = list(df['Category'].unique())"
      ],
      "execution_count": null,
      "outputs": []
    },
    {
      "cell_type": "code",
      "metadata": {
        "id": "tkz-aJ8Xf_B_",
        "outputId": "9dbb4d9e-26ae-4a84-b3d1-a0ac3961bf2b",
        "colab": {
          "base_uri": "https://localhost:8080/",
          "height": 54
        }
      },
      "source": [
        "print(cat)"
      ],
      "execution_count": null,
      "outputs": [
        {
          "output_type": "stream",
          "text": [
            "['copper pending field work needed', 'copper pending routing issue', 'fibre completed copper pending', 'reappointment needed out of time', 'dslam capacity issue', 'order completed in field', 'copper pending line plant access issue', 'fault in network', 'sales query', 'reappointment needed eu not present', 'order cancelled', 'reappointment needed new skills needed']\n"
          ],
          "name": "stdout"
        }
      ]
    },
    {
      "cell_type": "code",
      "metadata": {
        "id": "adFKFlkF3OUl",
        "outputId": "93df1f61-0a25-4c8d-e066-d2c78df96940",
        "colab": {
          "base_uri": "https://localhost:8080/",
          "height": 204
        }
      },
      "source": [
        "for i in cat:\n",
        "    try:\n",
        "        df_cat1 = df_grp.get_group(i)\n",
        "        train, test = splittrainval(df_cat1,train,test)\n",
        "    except:\n",
        "        continue"
      ],
      "execution_count": null,
      "outputs": [
        {
          "output_type": "stream",
          "text": [
            "(13, 3)\n",
            "(52, 3)\n",
            "(174, 3)\n",
            "(9, 3)\n",
            "(58, 3)\n",
            "(5, 3)\n",
            "(44, 3)\n",
            "(2, 3)\n",
            "(7, 3)\n",
            "(11, 3)\n",
            "(10, 3)\n"
          ],
          "name": "stdout"
        }
      ]
    },
    {
      "cell_type": "code",
      "metadata": {
        "id": "r0gsVn7sgenn",
        "outputId": "2ce5b3f6-6c75-4806-cfd2-de35d0f2bfdc",
        "colab": {
          "base_uri": "https://localhost:8080/",
          "height": 34
        }
      },
      "source": [
        "train.shape,test.shape,df.shape"
      ],
      "execution_count": null,
      "outputs": [
        {
          "output_type": "execute_result",
          "data": {
            "text/plain": [
              "((385, 3), (171, 3), (557, 3))"
            ]
          },
          "metadata": {
            "tags": []
          },
          "execution_count": 63
        }
      ]
    },
    {
      "cell_type": "code",
      "metadata": {
        "id": "paN2YJfwgrzn"
      },
      "source": [
        "train.to_csv(\"/content/drive/My Drive/BTClassText/train.csv\",index=False)\n",
        "test.to_csv(\"/content/drive/My Drive/BTClassText/test.csv\",index=False)"
      ],
      "execution_count": null,
      "outputs": []
    },
    {
      "cell_type": "code",
      "metadata": {
        "id": "nBIHUDxF42vQ"
      },
      "source": [
        ""
      ],
      "execution_count": null,
      "outputs": []
    }
  ]
}